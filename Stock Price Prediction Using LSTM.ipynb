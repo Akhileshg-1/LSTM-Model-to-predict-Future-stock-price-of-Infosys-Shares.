{
 "cells": [
  {
   "cell_type": "markdown",
   "metadata": {},
   "source": [
    "# Stock Prices prediction using LSTM"
   ]
  },
  {
   "cell_type": "code",
   "execution_count": 1,
   "metadata": {},
   "outputs": [],
   "source": [
    "import pandas as pd\n",
    "import numpy as np\n",
    "\n",
    "# To remove the scientific notation from numpy arrays\n",
    "np.set_printoptions(suppress=True)"
   ]
  },
  {
   "cell_type": "code",
   "execution_count": 2,
   "metadata": {},
   "outputs": [],
   "source": [
    "# install the nsepy library to get stock prices\n",
    "# !pip install nsepy"
   ]
  },
  {
   "cell_type": "code",
   "execution_count": 3,
   "metadata": {
    "scrolled": true
   },
   "outputs": [
    {
     "name": "stdout",
     "output_type": "stream",
     "text": [
      "(393, 14)\n"
     ]
    },
    {
     "data": {
      "text/html": [
       "<div>\n",
       "<style scoped>\n",
       "    .dataframe tbody tr th:only-of-type {\n",
       "        vertical-align: middle;\n",
       "    }\n",
       "\n",
       "    .dataframe tbody tr th {\n",
       "        vertical-align: top;\n",
       "    }\n",
       "\n",
       "    .dataframe thead th {\n",
       "        text-align: right;\n",
       "    }\n",
       "</style>\n",
       "<table border=\"1\" class=\"dataframe\">\n",
       "  <thead>\n",
       "    <tr style=\"text-align: right;\">\n",
       "      <th></th>\n",
       "      <th>Symbol</th>\n",
       "      <th>Series</th>\n",
       "      <th>Prev Close</th>\n",
       "      <th>Open</th>\n",
       "      <th>High</th>\n",
       "      <th>Low</th>\n",
       "      <th>Last</th>\n",
       "      <th>Close</th>\n",
       "      <th>VWAP</th>\n",
       "      <th>Volume</th>\n",
       "      <th>Turnover</th>\n",
       "      <th>Trades</th>\n",
       "      <th>Deliverable Volume</th>\n",
       "      <th>%Deliverble</th>\n",
       "    </tr>\n",
       "    <tr>\n",
       "      <th>Date</th>\n",
       "      <th></th>\n",
       "      <th></th>\n",
       "      <th></th>\n",
       "      <th></th>\n",
       "      <th></th>\n",
       "      <th></th>\n",
       "      <th></th>\n",
       "      <th></th>\n",
       "      <th></th>\n",
       "      <th></th>\n",
       "      <th></th>\n",
       "      <th></th>\n",
       "      <th></th>\n",
       "      <th></th>\n",
       "    </tr>\n",
       "  </thead>\n",
       "  <tbody>\n",
       "    <tr>\n",
       "      <th>2019-01-01</th>\n",
       "      <td>INFY</td>\n",
       "      <td>EQ</td>\n",
       "      <td>658.95</td>\n",
       "      <td>660.95</td>\n",
       "      <td>666.3</td>\n",
       "      <td>654.15</td>\n",
       "      <td>665.95</td>\n",
       "      <td>665.05</td>\n",
       "      <td>660.66</td>\n",
       "      <td>2943390</td>\n",
       "      <td>1.944579e+14</td>\n",
       "      <td>45422</td>\n",
       "      <td>1282161</td>\n",
       "      <td>0.4356</td>\n",
       "    </tr>\n",
       "    <tr>\n",
       "      <th>2019-01-02</th>\n",
       "      <td>INFY</td>\n",
       "      <td>EQ</td>\n",
       "      <td>665.05</td>\n",
       "      <td>666.00</td>\n",
       "      <td>674.0</td>\n",
       "      <td>662.05</td>\n",
       "      <td>668.00</td>\n",
       "      <td>669.05</td>\n",
       "      <td>669.97</td>\n",
       "      <td>7416655</td>\n",
       "      <td>4.968963e+14</td>\n",
       "      <td>108094</td>\n",
       "      <td>3880800</td>\n",
       "      <td>0.5233</td>\n",
       "    </tr>\n",
       "    <tr>\n",
       "      <th>2019-01-03</th>\n",
       "      <td>INFY</td>\n",
       "      <td>EQ</td>\n",
       "      <td>669.05</td>\n",
       "      <td>672.00</td>\n",
       "      <td>677.0</td>\n",
       "      <td>663.10</td>\n",
       "      <td>668.00</td>\n",
       "      <td>669.15</td>\n",
       "      <td>669.66</td>\n",
       "      <td>6827249</td>\n",
       "      <td>4.571929e+14</td>\n",
       "      <td>125781</td>\n",
       "      <td>3676359</td>\n",
       "      <td>0.5385</td>\n",
       "    </tr>\n",
       "    <tr>\n",
       "      <th>2019-01-04</th>\n",
       "      <td>INFY</td>\n",
       "      <td>EQ</td>\n",
       "      <td>669.15</td>\n",
       "      <td>671.75</td>\n",
       "      <td>673.9</td>\n",
       "      <td>651.00</td>\n",
       "      <td>660.25</td>\n",
       "      <td>661.05</td>\n",
       "      <td>660.17</td>\n",
       "      <td>7889310</td>\n",
       "      <td>5.208305e+14</td>\n",
       "      <td>187590</td>\n",
       "      <td>3747741</td>\n",
       "      <td>0.4750</td>\n",
       "    </tr>\n",
       "    <tr>\n",
       "      <th>2019-01-07</th>\n",
       "      <td>INFY</td>\n",
       "      <td>EQ</td>\n",
       "      <td>661.05</td>\n",
       "      <td>665.00</td>\n",
       "      <td>673.6</td>\n",
       "      <td>661.50</td>\n",
       "      <td>671.70</td>\n",
       "      <td>671.70</td>\n",
       "      <td>667.51</td>\n",
       "      <td>8046340</td>\n",
       "      <td>5.370974e+14</td>\n",
       "      <td>132736</td>\n",
       "      <td>4711672</td>\n",
       "      <td>0.5856</td>\n",
       "    </tr>\n",
       "  </tbody>\n",
       "</table>\n",
       "</div>"
      ],
      "text/plain": [
       "           Symbol Series  Prev Close    Open   High     Low    Last   Close  \\\n",
       "Date                                                                          \n",
       "2019-01-01   INFY     EQ      658.95  660.95  666.3  654.15  665.95  665.05   \n",
       "2019-01-02   INFY     EQ      665.05  666.00  674.0  662.05  668.00  669.05   \n",
       "2019-01-03   INFY     EQ      669.05  672.00  677.0  663.10  668.00  669.15   \n",
       "2019-01-04   INFY     EQ      669.15  671.75  673.9  651.00  660.25  661.05   \n",
       "2019-01-07   INFY     EQ      661.05  665.00  673.6  661.50  671.70  671.70   \n",
       "\n",
       "              VWAP   Volume      Turnover  Trades  Deliverable Volume  \\\n",
       "Date                                                                    \n",
       "2019-01-01  660.66  2943390  1.944579e+14   45422             1282161   \n",
       "2019-01-02  669.97  7416655  4.968963e+14  108094             3880800   \n",
       "2019-01-03  669.66  6827249  4.571929e+14  125781             3676359   \n",
       "2019-01-04  660.17  7889310  5.208305e+14  187590             3747741   \n",
       "2019-01-07  667.51  8046340  5.370974e+14  132736             4711672   \n",
       "\n",
       "            %Deliverble  \n",
       "Date                     \n",
       "2019-01-01       0.4356  \n",
       "2019-01-02       0.5233  \n",
       "2019-01-03       0.5385  \n",
       "2019-01-04       0.4750  \n",
       "2019-01-07       0.5856  "
      ]
     },
     "execution_count": 3,
     "metadata": {},
     "output_type": "execute_result"
    }
   ],
   "source": [
    "# Getting Stock data using nsepy library\n",
    "from nsepy import get_history\n",
    "from datetime import datetime\n",
    "\n",
    "startDate=datetime(2019, 1,1)\n",
    "endDate=datetime(2020, 8, 4)\n",
    "\n",
    "# Fetching the data\n",
    "StockData=get_history(symbol='INFY', start=startDate, end=endDate)\n",
    "print(StockData.shape)\n",
    "StockData.head()"
   ]
  },
  {
   "cell_type": "code",
   "execution_count": 4,
   "metadata": {},
   "outputs": [
    {
     "data": {
      "text/html": [
       "<div>\n",
       "<style scoped>\n",
       "    .dataframe tbody tr th:only-of-type {\n",
       "        vertical-align: middle;\n",
       "    }\n",
       "\n",
       "    .dataframe tbody tr th {\n",
       "        vertical-align: top;\n",
       "    }\n",
       "\n",
       "    .dataframe thead th {\n",
       "        text-align: right;\n",
       "    }\n",
       "</style>\n",
       "<table border=\"1\" class=\"dataframe\">\n",
       "  <thead>\n",
       "    <tr style=\"text-align: right;\">\n",
       "      <th></th>\n",
       "      <th>Symbol</th>\n",
       "      <th>Series</th>\n",
       "      <th>Prev Close</th>\n",
       "      <th>Open</th>\n",
       "      <th>High</th>\n",
       "      <th>Low</th>\n",
       "      <th>Last</th>\n",
       "      <th>Close</th>\n",
       "      <th>VWAP</th>\n",
       "      <th>Volume</th>\n",
       "      <th>Turnover</th>\n",
       "      <th>Trades</th>\n",
       "      <th>Deliverable Volume</th>\n",
       "      <th>%Deliverble</th>\n",
       "      <th>TradeDate</th>\n",
       "    </tr>\n",
       "    <tr>\n",
       "      <th>Date</th>\n",
       "      <th></th>\n",
       "      <th></th>\n",
       "      <th></th>\n",
       "      <th></th>\n",
       "      <th></th>\n",
       "      <th></th>\n",
       "      <th></th>\n",
       "      <th></th>\n",
       "      <th></th>\n",
       "      <th></th>\n",
       "      <th></th>\n",
       "      <th></th>\n",
       "      <th></th>\n",
       "      <th></th>\n",
       "      <th></th>\n",
       "    </tr>\n",
       "  </thead>\n",
       "  <tbody>\n",
       "    <tr>\n",
       "      <th>2020-07-29</th>\n",
       "      <td>INFY</td>\n",
       "      <td>EQ</td>\n",
       "      <td>962.85</td>\n",
       "      <td>953.25</td>\n",
       "      <td>960.00</td>\n",
       "      <td>943.60</td>\n",
       "      <td>951.95</td>\n",
       "      <td>954.15</td>\n",
       "      <td>952.22</td>\n",
       "      <td>11152710</td>\n",
       "      <td>1.061982e+15</td>\n",
       "      <td>212215</td>\n",
       "      <td>4338542</td>\n",
       "      <td>0.3890</td>\n",
       "      <td>2020-07-29</td>\n",
       "    </tr>\n",
       "    <tr>\n",
       "      <th>2020-07-30</th>\n",
       "      <td>INFY</td>\n",
       "      <td>EQ</td>\n",
       "      <td>954.15</td>\n",
       "      <td>962.00</td>\n",
       "      <td>972.65</td>\n",
       "      <td>958.75</td>\n",
       "      <td>962.15</td>\n",
       "      <td>961.45</td>\n",
       "      <td>965.59</td>\n",
       "      <td>12492569</td>\n",
       "      <td>1.206274e+15</td>\n",
       "      <td>222807</td>\n",
       "      <td>5962965</td>\n",
       "      <td>0.4773</td>\n",
       "      <td>2020-07-30</td>\n",
       "    </tr>\n",
       "    <tr>\n",
       "      <th>2020-07-31</th>\n",
       "      <td>INFY</td>\n",
       "      <td>EQ</td>\n",
       "      <td>961.45</td>\n",
       "      <td>969.25</td>\n",
       "      <td>986.45</td>\n",
       "      <td>953.30</td>\n",
       "      <td>967.75</td>\n",
       "      <td>966.00</td>\n",
       "      <td>971.12</td>\n",
       "      <td>12704359</td>\n",
       "      <td>1.233742e+15</td>\n",
       "      <td>195979</td>\n",
       "      <td>3201880</td>\n",
       "      <td>0.2520</td>\n",
       "      <td>2020-07-31</td>\n",
       "    </tr>\n",
       "    <tr>\n",
       "      <th>2020-08-03</th>\n",
       "      <td>INFY</td>\n",
       "      <td>EQ</td>\n",
       "      <td>966.00</td>\n",
       "      <td>960.00</td>\n",
       "      <td>965.40</td>\n",
       "      <td>947.45</td>\n",
       "      <td>955.30</td>\n",
       "      <td>956.90</td>\n",
       "      <td>954.94</td>\n",
       "      <td>8480166</td>\n",
       "      <td>8.098077e+14</td>\n",
       "      <td>164566</td>\n",
       "      <td>4108547</td>\n",
       "      <td>0.4845</td>\n",
       "      <td>2020-08-03</td>\n",
       "    </tr>\n",
       "    <tr>\n",
       "      <th>2020-08-04</th>\n",
       "      <td>INFY</td>\n",
       "      <td>EQ</td>\n",
       "      <td>956.90</td>\n",
       "      <td>960.45</td>\n",
       "      <td>970.70</td>\n",
       "      <td>940.55</td>\n",
       "      <td>952.00</td>\n",
       "      <td>949.85</td>\n",
       "      <td>949.99</td>\n",
       "      <td>11133259</td>\n",
       "      <td>1.057652e+15</td>\n",
       "      <td>166839</td>\n",
       "      <td>5087564</td>\n",
       "      <td>0.4570</td>\n",
       "      <td>2020-08-04</td>\n",
       "    </tr>\n",
       "  </tbody>\n",
       "</table>\n",
       "</div>"
      ],
      "text/plain": [
       "           Symbol Series  Prev Close    Open    High     Low    Last   Close  \\\n",
       "Date                                                                           \n",
       "2020-07-29   INFY     EQ      962.85  953.25  960.00  943.60  951.95  954.15   \n",
       "2020-07-30   INFY     EQ      954.15  962.00  972.65  958.75  962.15  961.45   \n",
       "2020-07-31   INFY     EQ      961.45  969.25  986.45  953.30  967.75  966.00   \n",
       "2020-08-03   INFY     EQ      966.00  960.00  965.40  947.45  955.30  956.90   \n",
       "2020-08-04   INFY     EQ      956.90  960.45  970.70  940.55  952.00  949.85   \n",
       "\n",
       "              VWAP    Volume      Turnover  Trades  Deliverable Volume  \\\n",
       "Date                                                                     \n",
       "2020-07-29  952.22  11152710  1.061982e+15  212215             4338542   \n",
       "2020-07-30  965.59  12492569  1.206274e+15  222807             5962965   \n",
       "2020-07-31  971.12  12704359  1.233742e+15  195979             3201880   \n",
       "2020-08-03  954.94   8480166  8.098077e+14  164566             4108547   \n",
       "2020-08-04  949.99  11133259  1.057652e+15  166839             5087564   \n",
       "\n",
       "            %Deliverble   TradeDate  \n",
       "Date                                 \n",
       "2020-07-29       0.3890  2020-07-29  \n",
       "2020-07-30       0.4773  2020-07-30  \n",
       "2020-07-31       0.2520  2020-07-31  \n",
       "2020-08-03       0.4845  2020-08-03  \n",
       "2020-08-04       0.4570  2020-08-04  "
      ]
     },
     "execution_count": 4,
     "metadata": {},
     "output_type": "execute_result"
    }
   ],
   "source": [
    "# Creating a column as date\n",
    "StockData['TradeDate']=StockData.index\n",
    "StockData.tail()"
   ]
  },
  {
   "cell_type": "markdown",
   "metadata": {},
   "source": [
    "### Plotting the closing  prices of stock"
   ]
  },
  {
   "cell_type": "code",
   "execution_count": 5,
   "metadata": {},
   "outputs": [
    {
     "data": {
      "text/plain": [
       "<matplotlib.axes._subplots.AxesSubplot at 0x19c14657e48>"
      ]
     },
     "execution_count": 5,
     "metadata": {},
     "output_type": "execute_result"
    },
    {
     "data": {
      "image/png": "[encoded data removed]",
      "text/plain": [
       "<Figure size 1440x432 with 1 Axes>"
      ]
     },
     "metadata": {
      "needs_background": "light"
     },
     "output_type": "display_data"
    }
   ],
   "source": [
    "%matplotlib inline\n",
    "StockData.plot(x='TradeDate', y='Close', kind='line', figsize=(20,6), rot=20)"
   ]
  },
  {
   "cell_type": "markdown",
   "metadata": {},
   "source": [
    "### Preparing the data"
   ]
  },
  {
   "cell_type": "code",
   "execution_count": 6,
   "metadata": {},
   "outputs": [
    {
     "data": {
      "text/plain": [
       "array([[665.05],\n",
       "       [669.05],\n",
       "       [669.15],\n",
       "       [661.05],\n",
       "       [671.7 ]])"
      ]
     },
     "execution_count": 6,
     "metadata": {},
     "output_type": "execute_result"
    }
   ],
   "source": [
    "FullData=StockData[['Close']].values\n",
    "FullData[0:5]"
   ]
  },
  {
   "cell_type": "code",
   "execution_count": null,
   "metadata": {},
   "outputs": [],
   "source": []
  },
  {
   "cell_type": "markdown",
   "metadata": {},
   "source": [
    "### Feature Scaling for fast training"
   ]
  },
  {
   "cell_type": "code",
   "execution_count": 7,
   "metadata": {},
   "outputs": [
    {
     "data": {
      "text/plain": [
       "array([[0.31532249],\n",
       "       [0.32442271],\n",
       "       [0.32465021],\n",
       "       [0.30622227],\n",
       "       [0.3304516 ]])"
      ]
     },
     "execution_count": 7,
     "metadata": {},
     "output_type": "execute_result"
    }
   ],
   "source": [
    "# Feature Scaling for fast training of neural networks\n",
    "from sklearn.preprocessing import StandardScaler, MinMaxScaler\n",
    "\n",
    "# Choosing between Standardization or normalization\n",
    "#sc = StandardScaler()\n",
    "sc=MinMaxScaler()\n",
    "\n",
    "DataScaler = sc.fit(FullData)\n",
    "X=DataScaler.transform(FullData)\n",
    "#X=FullData\n",
    "\n",
    "X[0:5]"
   ]
  },
  {
   "cell_type": "code",
   "execution_count": 8,
   "metadata": {},
   "outputs": [],
   "source": [
    "# split into samples\n",
    "X_samples = list()\n",
    "y_samples = list()\n",
    "\n",
    "NumerOfRows = len(X)\n",
    "TimeSteps=10  # next day's Price Prediction is based on last how many past day's prices\n",
    "\n",
    "# Iterate thru the values to create combinations\n",
    "for i in range(TimeSteps , NumerOfRows , 1):\n",
    "    x_sample = X[i-TimeSteps:i]\n",
    "    y_sample = X[i]\n",
    "    X_samples.append(x_sample)\n",
    "    y_samples.append(y_sample)"
   ]
  },
  {
   "cell_type": "code",
   "execution_count": 9,
   "metadata": {},
   "outputs": [
    {
     "data": {
      "text/plain": [
       "(383, 10, 1)"
      ]
     },
     "execution_count": 9,
     "metadata": {},
     "output_type": "execute_result"
    }
   ],
   "source": [
    "# Reshape the Input as a 3D (samples, Time Steps, Features)\n",
    "X_data=np.array(X_samples)\n",
    "X_data=X_data.reshape(X_data.shape[0],X_data.shape[1], 1)\n",
    "X_data.shape"
   ]
  },
  {
   "cell_type": "code",
   "execution_count": 10,
   "metadata": {},
   "outputs": [
    {
     "data": {
      "text/plain": [
       "(383, 1)"
      ]
     },
     "execution_count": 10,
     "metadata": {},
     "output_type": "execute_result"
    }
   ],
   "source": [
    "# We do not reshape y as a 3D data  as it is supposed to be a single column only\n",
    "y_data=np.array(y_samples)\n",
    "y_data=y_data.reshape(y_data.shape[0], 1)\n",
    "y_data.shape"
   ]
  },
  {
   "cell_type": "code",
   "execution_count": 11,
   "metadata": {},
   "outputs": [],
   "source": [
    "# Choosing the number of testing data records\n",
    "TestingRecords=10\n",
    "\n",
    "# Splitting the data into train and test\n",
    "X_train=X_data[:-TestingRecords]\n",
    "X_test=X_data[-TestingRecords:]\n",
    "y_train=y_data[:-TestingRecords]\n",
    "y_test=y_data[-TestingRecords:]"
   ]
  },
  {
   "cell_type": "code",
   "execution_count": 12,
   "metadata": {},
   "outputs": [
    {
     "name": "stdout",
     "output_type": "stream",
     "text": [
      "(373, 10, 1)\n",
      "(373, 1)\n",
      "(10, 10, 1)\n",
      "(10, 1)\n"
     ]
    }
   ],
   "source": [
    "# Printing the shape of training and testing\n",
    "print(X_train.shape)\n",
    "print(y_train.shape)\n",
    "print(X_test.shape)\n",
    "print(y_test.shape)"
   ]
  },
  {
   "cell_type": "code",
   "execution_count": null,
   "metadata": {},
   "outputs": [],
   "source": []
  },
  {
   "cell_type": "code",
   "execution_count": 13,
   "metadata": {},
   "outputs": [
    {
     "name": "stdout",
     "output_type": "stream",
     "text": [
      "[[0.31532249]\n",
      " [0.32442271]\n",
      " [0.32465021]\n",
      " [0.30622227]\n",
      " [0.3304516 ]\n",
      " [0.32669776]\n",
      " [0.34046184]\n",
      " [0.34865203]\n",
      " [0.35729724]\n",
      " [0.39915823]] --> [0.45535206]\n",
      "[[0.32442271]\n",
      " [0.32465021]\n",
      " [0.30622227]\n",
      " [0.3304516 ]\n",
      " [0.32669776]\n",
      " [0.34046184]\n",
      " [0.34865203]\n",
      " [0.35729724]\n",
      " [0.39915823]\n",
      " [0.45535206]] --> [0.47855762]\n",
      "[[0.32465021]\n",
      " [0.30622227]\n",
      " [0.3304516 ]\n",
      " [0.32669776]\n",
      " [0.34046184]\n",
      " [0.34865203]\n",
      " [0.35729724]\n",
      " [0.39915823]\n",
      " [0.45535206]\n",
      " [0.47855762]] --> [0.47070868]\n",
      "[[0.30622227]\n",
      " [0.3304516 ]\n",
      " [0.32669776]\n",
      " [0.34046184]\n",
      " [0.34865203]\n",
      " [0.35729724]\n",
      " [0.39915823]\n",
      " [0.45535206]\n",
      " [0.47855762]\n",
      " [0.47070868]] --> [0.46524855]\n",
      "[[0.3304516 ]\n",
      " [0.32669776]\n",
      " [0.34046184]\n",
      " [0.34865203]\n",
      " [0.35729724]\n",
      " [0.39915823]\n",
      " [0.45535206]\n",
      " [0.47855762]\n",
      " [0.47070868]\n",
      " [0.46524855]] --> [0.49721306]\n"
     ]
    }
   ],
   "source": [
    "# Visualizing the input and output being sent to the LSTM model\n",
    "for inp, out in zip(X_train[0:5], y_train[0:5]):\n",
    "    print(inp,'-->', out)"
   ]
  },
  {
   "cell_type": "code",
   "execution_count": 14,
   "metadata": {
    "scrolled": true
   },
   "outputs": [
    {
     "name": "stdout",
     "output_type": "stream",
     "text": [
      "Number of TimeSteps: 10\n",
      "Number of Features: 1\n"
     ]
    }
   ],
   "source": [
    "# Defining Input shapes for LSTM\n",
    "TimeSteps=X_train.shape[1]\n",
    "TotalFeatures=X_train.shape[2]\n",
    "print(\"Number of TimeSteps:\", TimeSteps)\n",
    "print(\"Number of Features:\", TotalFeatures)"
   ]
  },
  {
   "cell_type": "code",
   "execution_count": 15,
   "metadata": {},
   "outputs": [],
   "source": [
    "# pip install tensorflow"
   ]
  },
  {
   "cell_type": "markdown",
   "metadata": {},
   "source": [
    "### Fitting the Deep Learning LSTM model"
   ]
  },
  {
   "cell_type": "code",
   "execution_count": 16,
   "metadata": {},
   "outputs": [],
   "source": [
    "# Importing the Keras libraries and packages\n",
    "from keras.models import Sequential\n",
    "from keras.layers import Dense\n",
    "from keras.layers import LSTM\n",
    "\n",
    "# Initialising the RNN\n",
    "regressor = Sequential()\n",
    "\n",
    "# Adding the First input hidden layer and the LSTM layer\n",
    "# return_sequences = True, means the output of every time step to be shared with hidden next layer\n",
    "regressor.add(LSTM(units = 10, activation = 'relu', input_shape = (TimeSteps, TotalFeatures), return_sequences=True))\n",
    "\n",
    "\n",
    "# Adding the Second Second hidden layer and the LSTM layer\n",
    "regressor.add(LSTM(units = 5, activation = 'relu', input_shape = (TimeSteps, TotalFeatures), return_sequences=True))\n",
    "\n",
    "# Adding the Second Third hidden layer and the LSTM layer\n",
    "regressor.add(LSTM(units = 5, activation = 'relu', return_sequences=False ))\n",
    "\n",
    "\n",
    "# Adding the output layer\n",
    "regressor.add(Dense(units = 1))\n",
    "\n",
    "# Compiling the RNN\n",
    "regressor.compile(optimizer = 'adam', loss = 'mean_squared_error')"
   ]
  },
  {
   "cell_type": "code",
   "execution_count": 17,
   "metadata": {},
   "outputs": [
    {
     "name": "stdout",
     "output_type": "stream",
     "text": [
      "Model: \"sequential\"\n",
      "_________________________________________________________________\n",
      "Layer (type)                 Output Shape              Param #   \n",
      "=================================================================\n",
      "lstm (LSTM)                  (None, 10, 10)            480       \n",
      "_________________________________________________________________\n",
      "lstm_1 (LSTM)                (None, 10, 5)             320       \n",
      "_________________________________________________________________\n",
      "lstm_2 (LSTM)                (None, 5)                 220       \n",
      "_________________________________________________________________\n",
      "dense (Dense)                (None, 1)                 6         \n",
      "=================================================================\n",
      "Total params: 1,026\n",
      "Trainable params: 1,026\n",
      "Non-trainable params: 0\n",
      "_________________________________________________________________\n"
     ]
    }
   ],
   "source": [
    "regressor.summary()"
   ]
  },
  {
   "cell_type": "code",
   "execution_count": 18,
   "metadata": {
    "scrolled": false
   },
   "outputs": [
    {
     "name": "stdout",
     "output_type": "stream",
     "text": [
      "Epoch 1/100\n",
      "75/75 [==============================] - 1s 15ms/step - loss: 0.1525\n",
      "Epoch 2/100\n",
      "75/75 [==============================] - 1s 17ms/step - loss: 0.0128: 0s - l\n",
      "Epoch 3/100\n",
      "75/75 [==============================] - 1s 13ms/step - loss: 0.0074\n",
      "Epoch 4/100\n",
      "75/75 [==============================] - 1s 13ms/step - loss: 0.0074\n",
      "Epoch 5/100\n",
      "75/75 [==============================] - 1s 12ms/step - loss: 0.0066\n",
      "Epoch 6/100\n",
      "75/75 [==============================] - 1s 12ms/step - loss: 0.0065\n",
      "Epoch 7/100\n",
      "75/75 [==============================] - 1s 15ms/step - loss: 0.0066\n",
      "Epoch 8/100\n",
      "75/75 [==============================] - 1s 15ms/step - loss: 0.0064\n",
      "Epoch 9/100\n",
      "75/75 [==============================] - 1s 14ms/step - loss: 0.0064\n",
      "Epoch 10/100\n",
      "75/75 [==============================] - 1s 13ms/step - loss: 0.0060\n",
      "Epoch 11/100\n",
      "75/75 [==============================] - 1s 12ms/step - loss: 0.0060\n",
      "Epoch 12/100\n",
      "75/75 [==============================] - 1s 12ms/step - loss: 0.0060\n",
      "Epoch 13/100\n",
      "75/75 [==============================] - 1s 13ms/step - loss: 0.0056\n",
      "Epoch 14/100\n",
      "75/75 [==============================] - 1s 16ms/step - loss: 0.0054\n",
      "Epoch 15/100\n",
      "75/75 [==============================] - 1s 15ms/step - loss: 0.0056\n",
      "Epoch 16/100\n",
      "75/75 [==============================] - 1s 12ms/step - loss: 0.0053\n",
      "Epoch 17/100\n",
      "75/75 [==============================] - 1s 12ms/step - loss: 0.0050\n",
      "Epoch 18/100\n",
      "75/75 [==============================] - 1s 12ms/step - loss: 0.0048\n",
      "Epoch 19/100\n",
      "75/75 [==============================] - 1s 13ms/step - loss: 0.0045\n",
      "Epoch 20/100\n",
      "75/75 [==============================] - 1s 17ms/step - loss: 0.0046\n",
      "Epoch 21/100\n",
      "75/75 [==============================] - 1s 15ms/step - loss: 0.0045\n",
      "Epoch 22/100\n",
      "75/75 [==============================] - 1s 11ms/step - loss: 0.0043\n",
      "Epoch 23/100\n",
      "75/75 [==============================] - 1s 14ms/step - loss: 0.0040\n",
      "Epoch 24/100\n",
      "75/75 [==============================] - 1s 12ms/step - loss: 0.0041\n",
      "Epoch 25/100\n",
      "75/75 [==============================] - ETA: 0s - loss: 0.004 - 1s 14ms/step - loss: 0.0041\n",
      "Epoch 26/100\n",
      "75/75 [==============================] - 1s 14ms/step - loss: 0.0042\n",
      "Epoch 27/100\n",
      "75/75 [==============================] - 1s 14ms/step - loss: 0.0038\n",
      "Epoch 28/100\n",
      "75/75 [==============================] - 1s 13ms/step - loss: 0.0038\n",
      "Epoch 29/100\n",
      "75/75 [==============================] - 1s 13ms/step - loss: 0.0035\n",
      "Epoch 30/100\n",
      "75/75 [==============================] - 1s 13ms/step - loss: 0.0034\n",
      "Epoch 31/100\n",
      "75/75 [==============================] - 1s 17ms/step - loss: 0.0032\n",
      "Epoch 32/100\n",
      "75/75 [==============================] - 1s 16ms/step - loss: 0.0032\n",
      "Epoch 33/100\n",
      "75/75 [==============================] - 1s 15ms/step - loss: 0.0031: 0s - \n",
      "Epoch 34/100\n",
      "75/75 [==============================] - 1s 14ms/step - loss: 0.0033\n",
      "Epoch 35/100\n",
      "75/75 [==============================] - 1s 13ms/step - loss: 0.0031\n",
      "Epoch 36/100\n",
      "75/75 [==============================] - 1s 13ms/step - loss: 0.0031\n",
      "Epoch 37/100\n",
      "75/75 [==============================] - 1s 17ms/step - loss: 0.0029\n",
      "Epoch 38/100\n",
      "75/75 [==============================] - 1s 15ms/step - loss: 0.0030\n",
      "Epoch 39/100\n",
      "75/75 [==============================] - 1s 14ms/step - loss: 0.0028: 0s - loss: 0.002\n",
      "Epoch 40/100\n",
      "75/75 [==============================] - 1s 11ms/step - loss: 0.0028\n",
      "Epoch 41/100\n",
      "75/75 [==============================] - 1s 13ms/step - loss: 0.0028\n",
      "Epoch 42/100\n",
      "75/75 [==============================] - 1s 16ms/step - loss: 0.0028\n",
      "Epoch 43/100\n",
      "75/75 [==============================] - 1s 16ms/step - loss: 0.0029\n",
      "Epoch 44/100\n",
      "75/75 [==============================] - 1s 14ms/step - loss: 0.0029\n",
      "Epoch 45/100\n",
      "75/75 [==============================] - 1s 13ms/step - loss: 0.0033\n",
      "Epoch 46/100\n",
      "75/75 [==============================] - 1s 13ms/step - loss: 0.0025: 0s - los\n",
      "Epoch 47/100\n",
      "75/75 [==============================] - 1s 13ms/step - loss: 0.0026\n",
      "Epoch 48/100\n",
      "75/75 [==============================] - 1s 18ms/step - loss: 0.0026\n",
      "Epoch 49/100\n",
      "75/75 [==============================] - 1s 15ms/step - loss: 0.0027\n",
      "Epoch 50/100\n",
      "75/75 [==============================] - 1s 12ms/step - loss: 0.0026\n",
      "Epoch 51/100\n",
      "75/75 [==============================] - 1s 12ms/step - loss: 0.0027\n",
      "Epoch 52/100\n",
      "75/75 [==============================] - 1s 14ms/step - loss: 0.0027\n",
      "Epoch 53/100\n",
      "75/75 [==============================] - 1s 15ms/step - loss: 0.0025: 0s -\n",
      "Epoch 54/100\n",
      "75/75 [==============================] - 1s 16ms/step - loss: 0.0023: 0s - loss: \n",
      "Epoch 55/100\n",
      "75/75 [==============================] - 1s 13ms/step - loss: 0.0024\n",
      "Epoch 56/100\n",
      "75/75 [==============================] - 1s 12ms/step - loss: 0.0024\n",
      "Epoch 57/100\n",
      "75/75 [==============================] - 1s 12ms/step - loss: 0.0025\n",
      "Epoch 58/100\n",
      "75/75 [==============================] - 1s 13ms/step - loss: 0.0024\n",
      "Epoch 59/100\n",
      "75/75 [==============================] - 1s 13ms/step - loss: 0.0027\n",
      "Epoch 60/100\n",
      "75/75 [==============================] - 1s 16ms/step - loss: 0.0029\n",
      "Epoch 61/100\n",
      "75/75 [==============================] - 1s 13ms/step - loss: 0.0024\n",
      "Epoch 62/100\n",
      "75/75 [==============================] - 1s 12ms/step - loss: 0.0024\n",
      "Epoch 63/100\n",
      "75/75 [==============================] - 1s 12ms/step - loss: 0.0024\n",
      "Epoch 64/100\n",
      "75/75 [==============================] - 1s 12ms/step - loss: 0.0023\n",
      "Epoch 65/100\n",
      "75/75 [==============================] - 1s 12ms/step - loss: 0.0023\n",
      "Epoch 66/100\n",
      "75/75 [==============================] - 1s 18ms/step - loss: 0.0021\n",
      "Epoch 67/100\n",
      "75/75 [==============================] - 1s 14ms/step - loss: 0.0022: \n",
      "Epoch 68/100\n",
      "75/75 [==============================] - 1s 12ms/step - loss: 0.0024\n",
      "Epoch 69/100\n",
      "75/75 [==============================] - 1s 12ms/step - loss: 0.0021\n",
      "Epoch 70/100\n",
      "75/75 [==============================] - 1s 12ms/step - loss: 0.0026\n",
      "Epoch 71/100\n",
      "75/75 [==============================] - 1s 12ms/step - loss: 0.0022\n",
      "Epoch 72/100\n",
      "75/75 [==============================] - 1s 17ms/step - loss: 0.0021\n",
      "Epoch 73/100\n",
      "75/75 [==============================] - 1s 14ms/step - loss: 0.0021TA: 0s -\n",
      "Epoch 74/100\n",
      "75/75 [==============================] - 1s 12ms/step - loss: 0.0021ETA: 0s -\n",
      "Epoch 75/100\n",
      "75/75 [==============================] - 1s 13ms/step - loss: 0.0020\n",
      "Epoch 76/100\n",
      "75/75 [==============================] - 1s 12ms/step - loss: 0.0021\n",
      "Epoch 77/100\n",
      "75/75 [==============================] - 1s 12ms/step - loss: 0.0022\n",
      "Epoch 78/100\n",
      "75/75 [==============================] - 1s 16ms/step - loss: 0.0021: 0s - loss: 0.00\n",
      "Epoch 79/100\n",
      "75/75 [==============================] - 1s 14ms/step - loss: 0.0020\n",
      "Epoch 80/100\n",
      "75/75 [==============================] - 1s 15ms/step - loss: 0.0021 ETA: 0s - loss: 0.0015   - ETA:\n",
      "Epoch 81/100\n",
      "75/75 [==============================] - 1s 16ms/step - loss: 0.0020\n",
      "Epoch 82/100\n",
      "75/75 [==============================] - 1s 12ms/step - loss: 0.0020\n",
      "Epoch 83/100\n",
      "75/75 [==============================] - 1s 13ms/step - loss: 0.0020\n",
      "Epoch 84/100\n",
      "75/75 [==============================] - 1s 16ms/step - loss: 0.0020: 0s - loss: 0.0 - ETA: 0s - loss: 0.002\n",
      "Epoch 85/100\n",
      "75/75 [==============================] - 1s 14ms/step - loss: 0.0021\n",
      "Epoch 86/100\n",
      "75/75 [==============================] - 1s 13ms/step - loss: 0.0020\n",
      "Epoch 87/100\n",
      "75/75 [==============================] - 1s 12ms/step - loss: 0.0019\n",
      "Epoch 88/100\n",
      "75/75 [==============================] - 1s 12ms/step - loss: 0.0019\n",
      "Epoch 89/100\n",
      "75/75 [==============================] - 1s 14ms/step - loss: 0.0020\n",
      "Epoch 90/100\n",
      "75/75 [==============================] - 1s 16ms/step - loss: 0.0018 ETA: 0\n",
      "Epoch 91/100\n",
      "75/75 [==============================] - 1s 13ms/step - loss: 0.0019\n",
      "Epoch 92/100\n",
      "75/75 [==============================] - 1s 12ms/step - loss: 0.0019\n",
      "Epoch 93/100\n",
      "75/75 [==============================] - 1s 12ms/step - loss: 0.0020\n",
      "Epoch 94/100\n",
      "75/75 [==============================] - 1s 12ms/step - loss: 0.0020\n",
      "Epoch 95/100\n",
      "75/75 [==============================] - 1s 12ms/step - loss: 0.0017\n",
      "Epoch 96/100\n",
      "75/75 [==============================] - 1s 17ms/step - loss: 0.0018\n",
      "Epoch 97/100\n",
      "75/75 [==============================] - 1s 14ms/step - loss: 0.0017\n",
      "Epoch 98/100\n",
      "75/75 [==============================] - 1s 11ms/step - loss: 0.0017\n",
      "Epoch 99/100\n",
      "75/75 [==============================] - 1s 11ms/step - loss: 0.0017\n",
      "Epoch 100/100\n",
      "75/75 [==============================] - 1s 11ms/step - loss: 0.0017\n",
      "############### Total Time Taken:  2 Minutes #############\n"
     ]
    }
   ],
   "source": [
    "import time\n",
    "# Measuring the time taken by the model to train\n",
    "StartTime=time.time()\n",
    "\n",
    "# Fitting the RNN to the Training set\n",
    "regressor.fit(X_train, y_train, batch_size = 5, epochs = 100)\n",
    "\n",
    "EndTime=time.time()\n",
    "print(\"############### Total Time Taken: \", round((EndTime-StartTime)/60), 'Minutes #############')"
   ]
  },
  {
   "cell_type": "code",
   "execution_count": 19,
   "metadata": {},
   "outputs": [],
   "source": [
    "import tensorflow as tf"
   ]
  },
  {
   "cell_type": "code",
   "execution_count": 20,
   "metadata": {},
   "outputs": [
    {
     "data": {
      "text/plain": [
       "'2.3.0'"
      ]
     },
     "execution_count": 20,
     "metadata": {},
     "output_type": "execute_result"
    }
   ],
   "source": [
    "tf.__version__"
   ]
  },
  {
   "cell_type": "markdown",
   "metadata": {},
   "source": [
    "### Generating predictions on testing data"
   ]
  },
  {
   "cell_type": "code",
   "execution_count": 21,
   "metadata": {
    "scrolled": true
   },
   "outputs": [
    {
     "data": {
      "text/plain": [
       "array([[ 977.57587],\n",
       "       [ 953.275  ],\n",
       "       [ 943.84375],\n",
       "       [ 952.00256],\n",
       "       [ 983.34766],\n",
       "       [1001.1546 ],\n",
       "       [ 976.6532 ],\n",
       "       [ 972.3142 ],\n",
       "       [ 974.7243 ],\n",
       "       [ 957.6501 ]], dtype=float32)"
      ]
     },
     "execution_count": 21,
     "metadata": {},
     "output_type": "execute_result"
    }
   ],
   "source": [
    "# Making predictions on test data\n",
    "predicted_Price = regressor.predict(X_test)\n",
    "predicted_Price = DataScaler.inverse_transform(predicted_Price)\n",
    "predicted_Price"
   ]
  },
  {
   "cell_type": "code",
   "execution_count": 22,
   "metadata": {},
   "outputs": [
    {
     "data": {
      "text/plain": [
       "array([[917.9 ],\n",
       "       [907.95],\n",
       "       [922.85],\n",
       "       [948.45],\n",
       "       [962.85],\n",
       "       [954.15],\n",
       "       [961.45],\n",
       "       [966.  ],\n",
       "       [956.9 ],\n",
       "       [949.85]])"
      ]
     },
     "execution_count": 22,
     "metadata": {},
     "output_type": "execute_result"
    }
   ],
   "source": [
    "# Getting the original price values for testing data\n",
    "orig=y_test\n",
    "orig=DataScaler.inverse_transform(y_test)\n",
    "orig"
   ]
  },
  {
   "cell_type": "markdown",
   "metadata": {},
   "source": [
    "### Measuring the Accuracy of predictions"
   ]
  },
  {
   "cell_type": "code",
   "execution_count": 23,
   "metadata": {},
   "outputs": [
    {
     "data": {
      "text/plain": [
       "97.38831750901689"
      ]
     },
     "execution_count": 23,
     "metadata": {},
     "output_type": "execute_result"
    }
   ],
   "source": [
    "# Accuracy of the predictions\n",
    "100 - (100*(abs(orig-predicted_Price)/orig)).mean()"
   ]
  },
  {
   "cell_type": "markdown",
   "metadata": {},
   "source": [
    "### Plotting the predictions for Testing data"
   ]
  },
  {
   "cell_type": "code",
   "execution_count": 24,
   "metadata": {},
   "outputs": [
    {
     "data": {
      "image/png": "[encoded data removed]",
      "text/plain": [
       "<Figure size 1440x432 with 1 Axes>"
      ]
     },
     "metadata": {
      "needs_background": "light"
     },
     "output_type": "display_data"
    }
   ],
   "source": [
    "# Visualising the results\n",
    "import matplotlib.pyplot as plt\n",
    "\n",
    "plt.plot(predicted_Price, color = 'blue', label = 'Predicted Volume')\n",
    "plt.plot(orig, color = 'lightblue', label = 'Original Volume')\n",
    "\n",
    "plt.title('Stock Price Predictions')\n",
    "plt.xlabel('Trading Date')\n",
    "plt.xticks(range(TestingRecords), StockData.tail(TestingRecords)['TradeDate'])\n",
    "plt.ylabel('Stock Price')\n",
    "\n",
    "plt.legend()\n",
    "fig=plt.gcf()\n",
    "fig.set_figwidth(20)\n",
    "fig.set_figheight(6)\n",
    "plt.show()"
   ]
  },
  {
   "cell_type": "code",
   "execution_count": null,
   "metadata": {},
   "outputs": [],
   "source": []
  },
  {
   "cell_type": "markdown",
   "metadata": {
    "collapsed": true
   },
   "source": [
    "### Plotting the predictions for full data"
   ]
  },
  {
   "cell_type": "code",
   "execution_count": 25,
   "metadata": {
    "scrolled": true
   },
   "outputs": [
    {
     "data": {
      "image/png": "[encoded data removed]",
      "text/plain": [
       "<Figure size 1440x576 with 1 Axes>"
      ]
     },
     "metadata": {
      "needs_background": "light"
     },
     "output_type": "display_data"
    }
   ],
   "source": [
    "# Generating predictions on full data\n",
    "TrainPredictions=DataScaler.inverse_transform(regressor.predict(X_train))\n",
    "TestPredictions=DataScaler.inverse_transform(regressor.predict(X_test))\n",
    "\n",
    "FullDataPredictions=np.append(TrainPredictions, TestPredictions)\n",
    "FullDataOrig=FullData[TimeSteps:]\n",
    "\n",
    "# plotting the full data\n",
    "plt.plot(FullDataPredictions, color = 'blue', label = 'Predicted Price')\n",
    "plt.plot(FullDataOrig , color = 'red', label = 'Original Price')\n",
    "\n",
    "\n",
    "plt.title('Stock Price Predictions')\n",
    "plt.xlabel('Trading Date')\n",
    "plt.ylabel('Stock Price')\n",
    "plt.legend()\n",
    "fig=plt.gcf()\n",
    "fig.set_figwidth(20)\n",
    "fig.set_figheight(8)\n",
    "plt.show()"
   ]
  },
  {
   "cell_type": "markdown",
   "metadata": {},
   "source": [
    "## PREDICTION OF PRICE FOR NEXT DAY"
   ]
  },
  {
   "cell_type": "code",
   "execution_count": 26,
   "metadata": {},
   "outputs": [
    {
     "data": {
      "text/plain": [
       "393"
      ]
     },
     "execution_count": 26,
     "metadata": {},
     "output_type": "execute_result"
    }
   ],
   "source": [
    "len(X)"
   ]
  },
  {
   "cell_type": "code",
   "execution_count": 27,
   "metadata": {},
   "outputs": [
    {
     "data": {
      "text/plain": [
       "(1, 10)"
      ]
     },
     "execution_count": 27,
     "metadata": {},
     "output_type": "execute_result"
    }
   ],
   "source": [
    "x_input=X[383:393].reshape(1,-1)\n",
    "x_input.shape"
   ]
  },
  {
   "cell_type": "code",
   "execution_count": 28,
   "metadata": {},
   "outputs": [],
   "source": [
    "temp_input=list(x_input)\n",
    "temp_input=temp_input[0].tolist()"
   ]
  },
  {
   "cell_type": "code",
   "execution_count": 29,
   "metadata": {},
   "outputs": [
    {
     "data": {
      "text/plain": [
       "[0.8905699010351493,\n",
       " 0.8679331134114436,\n",
       " 0.9018314184961893,\n",
       " 0.9600728017290412,\n",
       " 0.9928335797975203,\n",
       " 0.9730406097144808,\n",
       " 0.9896485041519738,\n",
       " 1.0,\n",
       " 0.9792970083039472,\n",
       " 0.9632578773745877]"
      ]
     },
     "execution_count": 29,
     "metadata": {},
     "output_type": "execute_result"
    }
   ],
   "source": [
    "temp_input"
   ]
  },
  {
   "cell_type": "code",
   "execution_count": 30,
   "metadata": {},
   "outputs": [
    {
     "name": "stdout",
     "output_type": "stream",
     "text": [
      "[0.9349267]\n",
      "11\n",
      "[[0.9349266886711121]]\n"
     ]
    }
   ],
   "source": [
    "# demonstrate prediction for next days\n",
    "from numpy import array\n",
    "\n",
    "lst_output=[]\n",
    "n_steps=10\n",
    "i=0\n",
    "while(i<1):\n",
    "    \n",
    "    if(len(temp_input)>10):\n",
    "        #print(temp_input)\n",
    "        x_input=np.array(temp_input[1:])\n",
    "        print(\"{} day input {}\".format(i,x_input))\n",
    "        x_input=x_input.reshape(1,-1)\n",
    "        x_input = x_input.reshape((1, n_steps, 1))\n",
    "        #print(x_input)\n",
    "        yhat = regressor.predict(x_input, verbose=0)\n",
    "        print(\"{} day output {}\".format(i,yhat))\n",
    "        temp_input.extend(yhat[0].tolist())\n",
    "        temp_input=temp_input[1:]\n",
    "        #print(temp_input)\n",
    "        lst_output.extend(yhat.tolist())\n",
    "        i=i+1\n",
    "    else:\n",
    "        x_input = x_input.reshape((1, n_steps,1))\n",
    "        yhat = regressor.predict(x_input, verbose=0)\n",
    "        print(yhat[0])\n",
    "        temp_input.extend(yhat[0].tolist())\n",
    "        print(len(temp_input))\n",
    "        lst_output.extend(yhat.tolist())\n",
    "        i=i+1\n",
    "    \n",
    "\n",
    "print(lst_output)"
   ]
  },
  {
   "cell_type": "code",
   "execution_count": 31,
   "metadata": {},
   "outputs": [],
   "source": [
    "pre = DataScaler.inverse_transform(lst_output)"
   ]
  },
  {
   "cell_type": "code",
   "execution_count": 32,
   "metadata": {},
   "outputs": [
    {
     "name": "stdout",
     "output_type": "stream",
     "text": [
      "predicted Price [[937.39702601]]\n"
     ]
    }
   ],
   "source": [
    "#Prediction of price for next day\n",
    "print(\"predicted Price\",pre)"
   ]
  },
  {
   "cell_type": "markdown",
   "metadata": {},
   "source": [
    "### GRAPH of predicted price vs actual price (30/07/20 to 05/08/20) "
   ]
  },
  {
   "cell_type": "code",
   "execution_count": 35,
   "metadata": {
    "scrolled": true
   },
   "outputs": [
    {
     "data": {
      "image/png": "[encoded data removed]",
      "text/plain": [
       "<Figure size 1440x576 with 1 Axes>"
      ]
     },
     "metadata": {
      "needs_background": "light"
     },
     "output_type": "display_data"
    }
   ],
   "source": [
    "# Generating list of prediction and actual price daywise\n",
    "predictedprice =[1001.1546,976.6532,972.3142,974.7243,957.6501,937.39]\n",
    "actualprice =[954.15,961.45,966.0,956.9,949.85,944.50]\n",
    "# plotting the full data\n",
    "plt.plot(predictedprice, color = 'blue', label = 'Predicted Price')\n",
    "plt.plot(actualprice, color = 'red', label = 'Original Price')\n",
    "\n",
    "\n",
    "plt.title('Stock Price Predictions')\n",
    "plt.xlabel('Trading Day')\n",
    "plt.ylabel('Stock Price')\n",
    "plt.legend()\n",
    "fig=plt.gcf()\n",
    "fig.set_figwidth(20)\n",
    "fig.set_figheight(8)\n",
    "plt.show()"
   ]
  },
  {
   "cell_type": "markdown",
   "metadata": {},
   "source": [
    "## Accuracy of prediction (based on 6days data)"
   ]
  },
  {
   "cell_type": "code",
   "execution_count": 36,
   "metadata": {},
   "outputs": [
    {
     "data": {
      "text/plain": [
       "98.23367674950285"
      ]
     },
     "execution_count": 36,
     "metadata": {},
     "output_type": "execute_result"
    }
   ],
   "source": [
    "# Accuracy of the predictions\n",
    "X=np.array(predictedprice)\n",
    "Y=np.array(actualprice)\n",
    "100 - (100*(abs(Y-X)/Y)).mean()"
   ]
  },
  {
   "cell_type": "code",
   "execution_count": null,
   "metadata": {},
   "outputs": [],
   "source": []
  }
 ],
 "metadata": {
  "kernelspec": {
   "display_name": "Python 3",
   "language": "python",
   "name": "python3"
  },
  "language_info": {
   "codemirror_mode": {
    "name": "ipython",
    "version": 3
   },
   "file_extension": ".py",
   "mimetype": "text/x-python",
   "name": "python",
   "nbconvert_exporter": "python",
   "pygments_lexer": "ipython3",
   "version": "3.7.6"
  }
 },
 "nbformat": 4,
 "nbformat_minor": 2
}
